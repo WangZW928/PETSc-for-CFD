{
 "cells": [
  {
   "cell_type": "code",
   "execution_count": 5,
   "id": "aab96516-87b8-45d2-ab37-3b2ecb92ace3",
   "metadata": {},
   "outputs": [],
   "source": [
    "import numpy as np\n",
    "import scipy.sparse.linalg as splinalg\n",
    "from scipy import interpolate\n",
    "import matplotlib.pyplot as plt\n",
    "import cmasher as cmr\n",
    "from tqdm import tqdm\n",
    "import math"
   ]
  },
  {
   "cell_type": "code",
   "execution_count": 9,
   "id": "7da831bc-0905-44ba-9e31-a5c4645b6a2c",
   "metadata": {},
   "outputs": [],
   "source": [
    "\n",
    "#GRID\n",
    "SPACES = 0.01\n",
    "CELLS_X = 200\n",
    "CELLS_Y = 100\n",
    "POINTS_X = CELLS_X+1\n",
    "POINTS_Y = CELLS_Y+1\n",
    "\n",
    "#Domain\n",
    "DOMAIN_X_SIZE = CELLS_X * SPACES\n",
    "DOMAIN_Y_SIZE = CELLS_Y * SPACES\n",
    "\n",
    "#Obstacle\n",
    "IS_OBSTACLE = True\n",
    "IS_OBSTACLE_MOVE = False\n",
    "OBSTACLE_TYPE = 'cylinder'\n",
    "OBSTACLE_CENTER_X = 0.3 * DOMAIN_X_SIZE\n",
    "OBSTACLE_CENTER_Y = 0.5 * DOMAIN_Y_SIZE\n",
    "OBSTACLE_R = 0.2 * min(DOMAIN_Y_SIZE,DOMAIN_X_SIZE)\n",
    "\n",
    "#Solve\n",
    "TIME_STEP_LENGTH = 0.001\n"
   ]
  },
  {
   "cell_type": "code",
   "execution_count": 11,
   "id": "0912446f-c5f8-46d2-a27b-1a0a0afe0b08",
   "metadata": {},
   "outputs": [],
   "source": [
    "class Grid:\n",
    "    def __init__(self,DOMAIN_X_SIZE,DOMAIN_Y_SIZE,SPACES,POINTS_X,POINTS_Y):\n",
    "        self.lx = DOMAIN_X_SIZE\n",
    "        self.ly = DOMAIN_Y_SIZE\n",
    "        self.dh = SPACES\n",
    "        self.nx = POINTS_X\n",
    "        self.ny = POINTS_Y\n",
    "        self.x = np.linspace(0, self.lx, self.nx)\n",
    "        self.y = np.linspace(0, self.ly, self.ny)"
   ]
  },
  {
   "cell_type": "code",
   "execution_count": 12,
   "id": "47cb1c8e-58b9-4562-9d7d-570e84cb26c7",
   "metadata": {},
   "outputs": [],
   "source": [
    "class DATA:\n",
    "    def __init__(self,x_start,x_end,nx,y_start,y_end,ny):\n",
    "        self.crood_x = np.linspace(x_start,x_end,nx)\n",
    "        self.crood_y = np.linspace(y_start,y_end,nx)\n",
    "        self.data = np.ones((nx, ny))\n",
    "        "
   ]
  },
  {
   "cell_type": "code",
   "execution_count": 14,
   "id": "a2f81197-1c65-4f5b-b6e3-ab8c007981c2",
   "metadata": {},
   "outputs": [],
   "source": [
    "class Field:\n",
    "    def __init__(self,DATA_NAME,DATA_TYPE,IS_GOST_CELLS,POINTS_X,POINTS_Y):\n",
    "        self.name = DATA_NAME\n",
    "        self.type = DATA_TYPE\n",
    "        if self.type == 'scalar':\n",
    "            if self.IS_GOST_CELLS == False:\n",
    "                self.nx = POINTS_X-1\n",
    "                self.ny = POINTS_Y-1\n",
    "                self.scalar = DATA(0.5*SPACES,DOMAIN_X_SIZE + 0.5*SPACES,self.nx,0.5*SPACES,DOMAIN_Y_SIZE + 0.5*SPACES,self.ny)\n",
    "        self.IS_GOST_CELLS = IS_GOST_CELLS\n",
    "        \n",
    "        "
   ]
  },
  {
   "cell_type": "code",
   "execution_count": null,
   "id": "44312578-05fa-40b7-b8e5-9f00dd24deae",
   "metadata": {},
   "outputs": [],
   "source": []
  }
 ],
 "metadata": {
  "kernelspec": {
   "display_name": "Python 3 (ipykernel)",
   "language": "python",
   "name": "python3"
  },
  "language_info": {
   "codemirror_mode": {
    "name": "ipython",
    "version": 3
   },
   "file_extension": ".py",
   "mimetype": "text/x-python",
   "name": "python",
   "nbconvert_exporter": "python",
   "pygments_lexer": "ipython3",
   "version": "3.12.7"
  }
 },
 "nbformat": 4,
 "nbformat_minor": 5
}
